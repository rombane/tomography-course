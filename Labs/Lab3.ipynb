{
 "cells": [
  {
   "cell_type": "markdown",
   "metadata": {},
   "source": [
    "# Landweber iteration and discrepancy principle\n",
    "In this lab, you should solve a three-dimensional tomography problem with the Landweber method. Have a look at the lecture slides to see how these things work. Here are some general hints:\n",
    "\n",
    "* Start with a three-dimensional Shepp–Logan phantom and use a small $32 \\times 32 \\times 32$ resolution for testing. Make sure that the images are centered at the origin. Use about $10$ angles, otherwise you will not see the effect of semi-convergence.\n",
    "* Create the sinogram with a [cone beam geometry](http://odlgroup.github.io/odl/generated/odl.tomo.geometry.conebeam.cone_beam_geometry.html#odl.tomo.geometry.conebeam.cone_beam_geometry) and add some noise to the sinogram. For the discrepancy, you will need the noise nevel $\\| g - g_{\\mathrm{noisy}}\\|$ of the sinogram $g$. (In real applications, you must estimate this value, but let us keep this example simple.)\n",
    "* You get the norm of a vector with its norm method.\n",
    "* You can get the transpose of the forward operator with the function [odl.tomo.RayBackProjection](http://odlgroup.github.io/odl/generated/odl.tomo.operators.ray_trafo.RayBackProjection.html).\n",
    "* You can obtain an estimate of the largest singular value of the forward operator with its [norm method](http://odlgroup.github.io/odl/generated/odl.operator.operator.Operator.norm.html).\n",
    "* Start the iteration with the zero vector.\n",
    "* Do about $200$ iterations.\n",
    "* While doing the reconstruction, check if the discrepancy criterion is satisfied (but do not stop the iteration).\n",
    "* Plot the relative error of your reconstruction depending on the number of iterations."
   ]
  },
  {
   "cell_type": "code",
   "execution_count": null,
   "metadata": {},
   "outputs": [],
   "source": []
  }
 ],
 "metadata": {
  "kernelspec": {
   "display_name": "Python 3",
   "language": "python",
   "name": "python3"
  },
  "language_info": {
   "codemirror_mode": {
    "name": "ipython",
    "version": 3
   },
   "file_extension": ".py",
   "mimetype": "text/x-python",
   "name": "python",
   "nbconvert_exporter": "python",
   "pygments_lexer": "ipython3",
   "version": "3.6.4"
  }
 },
 "nbformat": 4,
 "nbformat_minor": 2
}
